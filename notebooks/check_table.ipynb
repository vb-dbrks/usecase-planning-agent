{
  "cells": [
    {
      "cell_type": "markdown",
      "metadata": {},
      "source": [
        "# Check Delta Table Status\n",
        "\n",
        "This notebook checks if the PowerPoint chunks table was created successfully.\n"
      ]
    },
    {
      "cell_type": "code",
      "execution_count": null,
      "metadata": {},
      "outputs": [],
      "source": [
        "# Check if table exists\n",
        "try:\n",
        "    # Try to query the table\n",
        "    result = spark.sql(\"SELECT COUNT(*) as total_chunks FROM vbdemos.usecase_agent.pptx_chunks\")\n",
        "    count = result.collect()[0][0]\n",
        "    print(f\"✅ Table exists! Total chunks: {count}\")\n",
        "    \n",
        "    # Show sample data\n",
        "    print(\"\\n📝 Sample data:\")\n",
        "    spark.sql(\"\"\"\n",
        "        SELECT file_name, chunk_type, chunk_size, LEFT(chunk_text, 100) as preview\n",
        "        FROM vbdemos.usecase_agent.pptx_chunks \n",
        "        LIMIT 5\n",
        "    \"\"\").show(truncate=False)\n",
        "    \n",
        "    # Show summary by file\n",
        "    print(\"\\n📊 Summary by file:\")\n",
        "    spark.sql(\"\"\"\n",
        "        SELECT \n",
        "            file_name,\n",
        "            COUNT(*) as chunk_count,\n",
        "            AVG(chunk_size) as avg_chunk_size,\n",
        "            MIN(chunk_size) as min_chunk_size,\n",
        "            MAX(chunk_size) as max_chunk_size\n",
        "        FROM vbdemos.usecase_agent.pptx_chunks\n",
        "        GROUP BY file_name\n",
        "        ORDER BY chunk_count DESC\n",
        "    \"\"\").show()\n",
        "    \n",
        "except Exception as e:\n",
        "    print(f\"❌ Error: {e}\")\n",
        "    print(\"\\nTrying to list tables in the schema:\")\n",
        "    try:\n",
        "        spark.sql(\"SHOW TABLES IN vbdemos.usecase_agent\").show()\n",
        "    except Exception as e2:\n",
        "        print(f\"Error listing tables: {e2}\")\n"
      ]
    }
  ],
  "metadata": {
    "language_info": {
      "name": "python"
    }
  },
  "nbformat": 4,
  "nbformat_minor": 2
}
