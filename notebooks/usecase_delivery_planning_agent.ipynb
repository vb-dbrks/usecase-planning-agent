{
 "cells": [
  {
   "cell_type": "markdown",
   "metadata": {},
   "source": [
    "# Usecase Delivery Planning Agent\n",
    "\n",
    "This notebook implements a RAG-based delivery planning agent using DSPy that helps users generate comprehensive project plans for data migration and delivery projects. The agent leverages indexed documents and follows a structured approach to gather requirements and generate actionable project plans.\n",
    "\n",
    "## Features:\n",
    "- **Intelligent Question Generation**: Automatically generates relevant questions based on project context\n",
    "- **Document Retrieval**: Uses vector search to find relevant information from indexed documents\n",
    "- **Structured Planning**: Generates comprehensive project plans with timelines, resources, and milestones\n",
    "- **Risk Assessment**: Identifies potential risks and mitigation strategies\n",
    "- **DSPy Optimization**: Uses DSPy for prompt optimization and performance improvement\n"
   ]
  },
  {
   "cell_type": "markdown",
   "metadata": {},
   "source": [
    "## 1. Setup and Configuration\n"
   ]
  },
  {
   "cell_type": "code",
   "execution_count": null,
   "metadata": {},
   "outputs": [],
   "source": [
    "# Install required packages\n",
    "%pip install dspy-ai databricks-vectorsearch pydantic\n"
   ]
  },
  {
   "cell_type": "code",
   "execution_count": null,
   "metadata": {},
   "outputs": [],
   "source": [
    "# Restart Python to ensure packages are loaded\n",
    "dbutils.library.restartPython()\n"
   ]
  },
  {
   "cell_type": "code",
   "execution_count": null,
   "metadata": {},
   "outputs": [],
   "source": [
    "# Configuration\n",
    "VECTOR_SEARCH_ENDPOINT_NAME = \"use-case-planning-agent\"  # Your vector search endpoint\n",
    "VECTOR_SEARCH_INDEX_NAME = \"usecase-planning-agent-index\"  # Your vector search index\n",
    "CATALOG_NAME = \"vbdemos\"\n",
    "SCHEMA_NAME = \"usecase_agent\"\n",
    "DOCUMENTS_TABLE = f\"{CATALOG_NAME}.{SCHEMA_NAME}.usecase_planning_agent_pdf_parsed\"\n",
    "\n",
    "# Project planning categories and questions\n",
    "PLANNING_CATEGORIES = {\n",
    "    \"Resource\": [\n",
    "        \"How many team members are there?\",\n",
    "        \"Are they using PS skills?\",\n",
    "        \"Are they using an SI?\",\n",
    "        \"Are the teams sufficiently skilled/trained?\",\n",
    "        \"Are resources shared with other projects?\",\n",
    "        \"Have resources done this work before?\",\n",
    "        \"Is there a product owner?\",\n",
    "        \"Are the DevOps/SecOps/Infra teams under this 'teams' control/purview?\",\n",
    "        \"Program manager?\",\n",
    "        \"Are the BAU teams that will ultimately manage the new system sufficiently trained?\",\n",
    "        \"Has an end-user adoption plan been created?\"\n",
    "    ],\n",
    "    \"Current Process Maturity\": [\n",
    "        \"Do they have a history of delays?\",\n",
    "        \"Do they have change management authority/equivalent?\",\n",
    "        \"Do they have an identified way of working - agile/waterfall?\"\n",
    "    ],\n",
    "    \"Customer Background\": [\n",
    "        \"Does the customer have a specific deadline/reason for that deadline?\",\n",
    "        \"Customer is already using cloud?\",\n",
    "        \"Customer has Databricks elsewhere?\",\n",
    "        \"Customer has security approval for this migration?\",\n",
    "        \"Are there any key connectors that are needed?\",\n",
    "        \"What are the key drivers of the migration?\",\n",
    "        \"Are there any legal compliance or requirements to consider?\"\n",
    "    ],\n",
    "    \"Scope\": [\n",
    "        \"Has a pilot or POC been conducted?\",\n",
    "        \"Does the customer have visibility of all the data and pipelines that need migration?\",\n",
    "        \"Is customer aware of where and who uses the data?\",\n",
    "        \"Is lift and shift or redesign preferred?\",\n",
    "        \"How many pipelines are to be migrated?\",\n",
    "        \"Relative complexity of pipelines?\",\n",
    "        \"Volume of data to be migrated?\",\n",
    "        \"How frequently is the data updated?\",\n",
    "        \"Is there a proposed UC design/infrastructure design?\",\n",
    "        \"Is PII handling included?\",\n",
    "        \"Does the migration include monitoring?\",\n",
    "        \"Does the migration include optimization?\",\n",
    "        \"Will it be run in parallel or phased move over?\",\n",
    "        \"Awareness of business critical pipelines/pipelines that cannot be down?\",\n",
    "        \"Do they have control over how they receive data?\",\n",
    "        \"Are additional data quality checks needing to be implemented?\",\n",
    "        \"Are there any key connectors that need to be migrated?\",\n",
    "        \"What level of testing is required and who will be doing this?\",\n",
    "        \"Are data consumers/systems that use the data known?\",\n",
    "        \"Does customer already have a plan?\",\n",
    "        \"What is the quality of the data?\",\n",
    "        \"Are the data pathways known?\",\n",
    "        \"Has a permissions model been agreed?\",\n",
    "        \"Is there a new data layout/has the UC catalog/schema structure been designed and agreed?\",\n",
    "        \"Is disaster recovery included in this migration?\"\n",
    "    ]\n",
    "}\n",
    "\n",
    "print(\"Configuration loaded successfully!\")\n",
    "print(f\"Vector Search Endpoint: {VECTOR_SEARCH_ENDPOINT_NAME}\")\n",
    "print(f\"Documents Table: {DOCUMENTS_TABLE}\")\n",
    "print(f\"Planning Categories: {list(PLANNING_CATEGORIES.keys())}\")\n"
   ]
  },
  {
   "cell_type": "markdown",
   "metadata": {},
   "source": [
    "## 2. DSPy Setup and Model Configuration\n"
   ]
  },
  {
   "cell_type": "code",
   "execution_count": null,
   "metadata": {},
   "outputs": [],
   "source": [
    "import dspy\n",
    "import json\n",
    "from typing import List, Dict, Any\n",
    "from databricks.vector_search.client import VectorSearchClient\n",
    "from pyspark.sql import SparkSession\n",
    "\n",
    "# Initialize Spark\n",
    "spark = SparkSession.builder.appName(\"DeliveryPlanningAgent\").getOrCreate()\n",
    "\n",
    "# Configure DSPy with Databricks model\n",
    "token = dbutils.notebook.entry_point.getDbutils().notebook().getContext().apiToken().get()\n",
    "url = dbutils.notebook.entry_point.getDbutils().notebook().getContext().apiUrl().get() + '/serving-endpoints'\n",
    "\n",
    "lm = dspy.LM(\n",
    "    model=\"databricks/databricks-claude-sonnet-4\",\n",
    "    api_key=token,\n",
    "    api_base=url,\n",
    ")\n",
    "dspy.configure(lm=lm)\n",
    "\n",
    "# Initialize Vector Search client\n",
    "vsc = VectorSearchClient(disable_notice=True)\n",
    "\n",
    "print(\"DSPy and Vector Search configured successfully!\")\n"
   ]
  },
  {
   "cell_type": "markdown",
   "metadata": {},
   "source": [
    "## 3. DSPy Signatures and Modules\n"
   ]
  },
  {
   "cell_type": "code",
   "execution_count": null,
   "metadata": {},
   "outputs": [],
   "source": [
    "# DSPy Signatures for the delivery planning agent\n",
    "\n",
    "class QuestionGenerator(dspy.Signature):\n",
    "    \"\"\"Generate relevant questions based on project context and category.\"\"\"\n",
    "    project_context: str = dspy.InputField(desc=\"Description of the project and current context\")\n",
    "    category: str = dspy.InputField(desc=\"Planning category (Resource, Scope, Customer Background, etc.)\")\n",
    "    existing_answers: str = dspy.InputField(desc=\"Previously answered questions and responses\")\n",
    "    questions: str = dspy.OutputField(desc=\"List of 3-5 most relevant questions for this category\")\n",
    "\n",
    "class DocumentRetriever(dspy.Signature):\n",
    "    \"\"\"Retrieve relevant documents based on questions and context.\"\"\"\n",
    "    question: str = dspy.InputField(desc=\"Specific question to find relevant information for\")\n",
    "    project_context: str = dspy.InputField(desc=\"Project context and background\")\n",
    "    retrieved_docs: str = dspy.OutputField(desc=\"Relevant document excerpts and information\")\n",
    "\n",
    "class AnswerAnalyzer(dspy.Signature):\n",
    "    \"\"\"Analyze answers and extract key insights for project planning.\"\"\"\n",
    "    question: str = dspy.InputField(desc=\"The question that was asked\")\n",
    "    answer: str = dspy.InputField(desc=\"The answer provided by the user\")\n",
    "    relevant_docs: str = dspy.InputField(desc=\"Relevant documents retrieved from knowledge base\")\n",
    "    insights: str = dspy.OutputField(desc=\"Key insights, risks, and implications for project planning\")\n",
    "\n",
    "class ProjectPlanGenerator(dspy.Signature):\n",
    "    \"\"\"Generate comprehensive project plan based on gathered information.\"\"\"\n",
    "    project_context: str = dspy.InputField(desc=\"Overall project context and objectives\")\n",
    "    gathered_insights: str = dspy.InputField(desc=\"All insights gathered from questions and documents\")\n",
    "    timeline_requirements: str = dspy.InputField(desc=\"Timeline constraints and requirements\")\n",
    "    project_plan: str = dspy.OutputField(desc=\"Comprehensive project plan with phases, milestones, resources, and risks\")\n",
    "\n",
    "class RiskAssessor(dspy.Signature):\n",
    "    \"\"\"Assess risks and provide mitigation strategies.\"\"\"\n",
    "    project_plan: str = dspy.InputField(desc=\"The proposed project plan\")\n",
    "    project_context: str = dspy.InputField(desc=\"Project context and constraints\")\n",
    "    risk_assessment: str = dspy.OutputField(desc=\"Identified risks, their likelihood, impact, and mitigation strategies\")\n",
    "\n",
    "print(\"DSPy signatures defined successfully!\")\n"
   ]
  },
  {
   "cell_type": "code",
   "execution_count": null,
   "metadata": {},
   "outputs": [],
   "source": [
    "# DSPy Modules for the delivery planning agent\n\nclass QuestionGenerationModule(dspy.Module):\n    \"\"\"Module to generate relevant questions for each planning category.\"\"\"\n    \n    def __init__(self):\n        super().__init__()\n        self.generate = dspy.ChainOfThought(QuestionGenerator)\n    \n    def forward(self, project_context: str, category: str, existing_answers: str = \"\"):\n        return self.generate(\n            project_context=project_context,\n            category=category,\n            existing_answers=existing_answers\n        )\n\nclass DocumentRetrievalModule(dspy.Module):\n    \"\"\"Module to retrieve relevant documents using vector search.\"\"\"\n    \n    def __init__(self, vector_search_endpoint: str, vector_search_index: str):\n        super().__init__()\n        self.vector_search_endpoint = vector_search_endpoint\n        self.vector_search_index = vector_search_index\n        self.retrieve = dspy.ChainOfThought(DocumentRetriever)\n    \n    def forward(self, question: str, project_context: str):\n        # Perform vector search\n        search_results = vsc.get_index(\n            endpoint_name=self.vector_search_endpoint,\n            index_name=self.vector_search_index\n        ).similarity_search(\n            query_text=question,\n            columns=[\"chunk_text\", \"file_name\", \"chunk_type\"],\n            num_results=5\n        )\n        \n        # Format retrieved documents\n        retrieved_docs = \"\\n\\n\".join([\n            f\"Source: {doc.get('file_name', 'Unknown')}\\nContent: {doc.get('chunk_text', '')}\"\n            for doc in search_results.get('result', {}).get('data_array', [])\n        ])\n        \n        return self.retrieve(\n            question=question,\n            project_context=project_context,\n            retrieved_docs=retrieved_docs\n        )\n\nclass AnswerAnalysisModule(dspy.Module):\n    \"\"\"Module to analyze answers and extract insights.\"\"\"\n    \n    def __init__(self):\n        super().__init__()\n        self.analyze = dspy.ChainOfThought(AnswerAnalyzer)\n    \n    def forward(self, question: str, answer: str, relevant_docs: str):\n        return self.analyze(\n            question=question,\n            answer=answer,\n            relevant_docs=relevant_docs\n        )\n\nclass ProjectPlanGenerationModule(dspy.Module):\n    \"\"\"Module to generate comprehensive project plans.\"\"\"\n    \n    def __init__(self):\n        super().__init__()\n        self.generate_plan = dspy.ChainOfThought(ProjectPlanGenerator)\n    \n    def forward(self, project_context: str, gathered_insights: str, timeline_requirements: str):\n        return self.generate_plan(\n            project_context=project_context,\n            gathered_insights=gathered_insights,\n            timeline_requirements=timeline_requirements\n        )\n\nclass RiskAssessmentModule(dspy.Module):\n    \"\"\"Module to assess risks and provide mitigation strategies.\"\"\"\n    \n    def __init__(self):\n        super().__init__()\n        self.assess_risks = dspy.ChainOfThought(RiskAssessor)\n    \n    def forward(self, project_plan: str, project_context: str):\n        return self.assess_risks(\n            project_plan=project_plan,\n            project_context=project_context\n        )\n\nprint(\"DSPy modules defined successfully!\")\n"
   ]
  },
  {
   "cell_type": "markdown",
   "metadata": {},
   "source": [
    "## 4. Main Delivery Planning Agent\n"
   ]
  },
  {
   "cell_type": "code",
   "execution_count": null,
   "metadata": {},
   "outputs": [],
   "source": [
    "class DeliveryPlanningAgent(dspy.Module):\n    \"\"\"Main delivery planning agent that orchestrates the entire planning process.\"\"\"\n    \n    def __init__(self, vector_search_endpoint: str, vector_search_index: str):\n        super().__init__()\n        self.question_generator = QuestionGenerationModule()\n        self.document_retriever = DocumentRetrievalModule(vector_search_endpoint, vector_search_index)\n        self.answer_analyzer = AnswerAnalysisModule()\n        self.plan_generator = ProjectPlanGenerationModule()\n        self.risk_assessor = RiskAssessmentModule()\n        \n        # Store conversation state\n        self.conversation_history = []\n        self.gathered_insights = []\n        self.project_context = \"\"\n    \n    def start_planning_session(self, project_context: str, timeline_requirements: str = \"\"):\n        \"\"\"Start a new planning session.\"\"\"\n        self.project_context = project_context\n        self.conversation_history = []\n        self.gathered_insights = []\n        \n        print(\"\ud83d\ude80 Starting Delivery Planning Session\")\n        print(f\"\ud83d\udccb Project Context: {project_context}\")\n        if timeline_requirements:\n            print(f\"\u23f0 Timeline Requirements: {timeline_requirements}\")\n        print(\"\\n\" + \"=\"*50)\n        \n        return self._generate_questions_for_category(\"Resource\")\n    \n    def _generate_questions_for_category(self, category: str):\n        \"\"\"Generate questions for a specific category.\"\"\"\n        existing_answers = self._format_existing_answers()\n        \n        result = self.question_generator(\n            project_context=self.project_context,\n            category=category,\n            existing_answers=existing_answers\n        )\n        \n        print(f\"\\n\ud83d\udcdd {category} Questions:\")\n        print(\"-\" * 30)\n        questions = result.questions.split('\\n')\n        for i, question in enumerate(questions, 1):\n            if question.strip():\n                print(f\"{i}. {question.strip()}\")\n        \n        return questions\n    \n    def answer_question(self, question: str, answer: str, category: str = \"\"):\n        \"\"\"Process a user's answer to a question.\"\"\"\n        print(f\"\\n\ud83d\udcac Processing Answer:\")\n        print(f\"Q: {question}\")\n        print(f\"A: {answer}\")\n        \n        # Retrieve relevant documents\n        doc_result = self.document_retriever(question, self.project_context)\n        relevant_docs = doc_result.retrieved_docs\n        \n        # Analyze the answer\n        analysis_result = self.answer_analyzer(question, answer, relevant_docs)\n        insights = analysis_result.insights\n        \n        # Store in conversation history\n        self.conversation_history.append({\n            \"question\": question,\n            \"answer\": answer,\n            \"category\": category,\n            \"insights\": insights,\n            \"relevant_docs\": relevant_docs\n        })\n        \n        self.gathered_insights.append(insights)\n        \n        print(f\"\\n\ud83d\udd0d Key Insights:\")\n        print(insights)\n        \n        return insights\n    \n    def generate_project_plan(self, timeline_requirements: str = \"\"):\n        \"\"\"Generate the final project plan based on all gathered information.\"\"\"\n        print(\"\\n\ud83d\udcca Generating Project Plan...\")\n        print(\"=\"*50)\n        \n        # Combine all insights\n        all_insights = \"\\n\\n\".join(self.gathered_insights)\n        \n        # Generate project plan\n        plan_result = self.plan_generator(\n            project_context=self.project_context,\n            gathered_insights=all_insights,\n            timeline_requirements=timeline_requirements\n        )\n        \n        project_plan = plan_result.project_plan\n        \n        print(\"\ud83d\udccb PROJECT PLAN:\")\n        print(\"=\"*50)\n        print(project_plan)\n        \n        # Assess risks\n        risk_result = self.risk_assessor(project_plan, self.project_context)\n        risk_assessment = risk_result.risk_assessment\n        \n        print(\"\\n\u26a0\ufe0f  RISK ASSESSMENT:\")\n        print(\"=\"*50)\n        print(risk_assessment)\n        \n        return {\n            \"project_plan\": project_plan,\n            \"risk_assessment\": risk_assessment,\n            \"conversation_history\": self.conversation_history\n        }\n    \n    def _format_existing_answers(self):\n        \"\"\"Format existing answers for context.\"\"\"\n        if not self.conversation_history:\n            return \"No previous answers yet.\"\n        \n        formatted = []\n        for entry in self.conversation_history:\n            formatted.append(f\"Q: {entry['question']}\\nA: {entry['answer']}\")\n        \n        return \"\\n\\n\".join(formatted)\n    \n    def get_next_category_questions(self):\n        \"\"\"Get questions for the next planning category.\"\"\"\n        categories = list(PLANNING_CATEGORIES.keys())\n        completed_categories = set(entry.get('category', '') for entry in self.conversation_history)\n        \n        for category in categories:\n            if category not in completed_categories:\n                return self._generate_questions_for_category(category)\n        \n        return None  # All categories completed\n\nprint(\"Delivery Planning Agent defined successfully!\")\n"
   ]
  },
  {
   "cell_type": "markdown",
   "metadata": {},
   "source": [
    "## 5. Example Usage and Testing\n"
   ]
  },
  {
   "cell_type": "code",
   "execution_count": null,
   "metadata": {},
   "outputs": [],
   "source": [
    "# Initialize the delivery planning agent\nagent = DeliveryPlanningAgent(VECTOR_SEARCH_ENDPOINT_NAME, VECTOR_SEARCH_INDEX_NAME)\n\n# Example: Start a planning session\nproject_context = \"\"\"\nWe are planning a data migration project for a large financial services company. \nThey want to migrate their existing Oracle data warehouse to Databricks on Azure. \nThe migration involves 50+ data pipelines, 2TB of data, and needs to be completed \nwithin 6 months. The company has some cloud experience but limited Databricks knowledge.\n\"\"\"\n\ntimeline_requirements = \"6 months deadline, must be completed by end of Q2 2024\"\n\n# Start the planning session\nquestions = agent.start_planning_session(project_context, timeline_requirements)\n\nprint(\"\\n\" + \"=\"*50)\nprint(\"Example: Answer some questions to see the agent in action\")\nprint(\"=\"*50)\n"
   ]
  },
  {
   "cell_type": "code",
   "execution_count": null,
   "metadata": {},
   "outputs": [],
   "source": [
    "# Example: Simulate answering questions\n",
    "# In a real scenario, these would be user inputs\n",
    "\n",
    "# Answer Resource questions\n",
    "resource_answers = [\n",
    "    (\"How many team members are there?\", \"We have 8 team members including 2 data engineers, 3 analysts, 2 developers, and 1 project manager\"),\n",
    "    (\"Are the teams sufficiently skilled/trained?\", \"The data engineers have some cloud experience but no Databricks experience. The analysts are familiar with SQL but not Spark. We need training.\"),\n",
    "    (\"Is there a product owner?\", \"Yes, we have a product owner from the business side who understands the data requirements\"),\n",
    "    (\"Are the DevOps/SecOps/Infra teams under this 'teams' control/purview?\", \"No, they are separate teams with their own priorities and reporting lines\")\n",
    "]\n",
    "\n",
    "print(\"\ud83d\udcdd Processing Resource Questions...\")\n",
    "for question, answer in resource_answers:\n",
    "    agent.answer_question(question, answer, \"Resource\")\n",
    "\n",
    "print(\"\\n\" + \"=\"*50)\n",
    "print(\"Moving to next category...\")\n",
    "print(\"=\"*50)\n",
    "\n",
    "# Get next category questions\n",
    "next_questions = agent.get_next_category_questions()\n"
   ]
  },
  {
   "cell_type": "code",
   "execution_count": null,
   "metadata": {},
   "outputs": [],
   "source": [
    "# Answer Scope questions\n",
    "scope_answers = [\n",
    "    (\"How many pipelines are to be migrated?\", \"We have approximately 50 data pipelines that need to be migrated\"),\n",
    "    (\"Volume of data to be migrated?\", \"The total data volume is about 2TB across multiple tables and schemas\"),\n",
    "    (\"Is lift and shift or redesign preferred?\", \"We prefer a hybrid approach - lift and shift for simple pipelines, redesign for complex ones\"),\n",
    "    (\"Does the migration include monitoring?\", \"Yes, we need comprehensive monitoring and alerting for the new system\"),\n",
    "    (\"Will it be run in parallel or phased move over?\", \"We plan to do a phased migration over 6 months, starting with non-critical pipelines\")\n",
    "]\n",
    "\n",
    "print(\"\ud83d\udcdd Processing Scope Questions...\")\n",
    "for question, answer in scope_answers:\n",
    "    agent.answer_question(question, answer, \"Scope\")\n",
    "\n",
    "print(\"\\n\" + \"=\"*50)\n",
    "print(\"Generating Project Plan...\")\n",
    "print(\"=\"*50)\n",
    "\n",
    "# Generate the final project plan\n",
    "final_plan = agent.generate_project_plan(timeline_requirements)\n",
    "\n",
    "print(\"\\n\u2705 Planning session completed!\")\n",
    "print(\"\ud83d\udcca Summary:\")\n",
    "print(f\"- Total questions answered: {len(agent.conversation_history)}\")\n",
    "print(f\"- Categories covered: {set(entry['category'] for entry in agent.conversation_history)}\")\n",
    "print(f\"- Key insights gathered: {len(agent.gathered_insights)}\")\n"
   ]
  },
  {
   "cell_type": "markdown",
   "metadata": {},
   "source": [
    "## 6. Interactive Planning Interface\n"
   ]
  },
  {
   "cell_type": "code",
   "execution_count": null,
   "metadata": {},
   "outputs": [],
   "source": [
    "def interactive_planning_session():\n    \"\"\"Interactive function for users to run their own planning sessions.\"\"\"\n    \n    print(\"\ud83d\ude80 Welcome to the Delivery Planning Agent!\")\n    print(\"=\"*50)\n    \n    # Get project context from user\n    project_context = input(\"Please describe your project context: \")\n    timeline_requirements = input(\"Any specific timeline requirements? (press Enter to skip): \")\n    \n    # Initialize agent\n    agent = DeliveryPlanningAgent(VECTOR_SEARCH_ENDPOINT_NAME, VECTOR_SEARCH_INDEX_NAME)\n    \n    # Start planning session\n    questions = agent.start_planning_session(project_context, timeline_requirements)\n    \n    print(\"\\n\ud83d\udcdd Please answer the questions above. Type 'next' to move to the next category, or 'plan' to generate the project plan.\")\n    \n    while True:\n        user_input = input(\"\\nYour response (or 'next'/'plan'): \").strip()\n        \n        if user_input.lower() == 'next':\n            next_questions = agent.get_next_category_questions()\n            if next_questions is None:\n                print(\"\u2705 All categories completed! Type 'plan' to generate your project plan.\")\n            continue\n        \n        elif user_input.lower() == 'plan':\n            final_plan = agent.generate_project_plan(timeline_requirements)\n            break\n        \n        else:\n            # This is a simplified version - in practice, you'd need to match the response to the current question\n            print(\"Please provide a more specific answer or use 'next'/'plan' commands.\")\n    \n    return final_plan\n\n# Uncomment the line below to run an interactive session\n# interactive_planning_session()\n\nprint(\"Interactive planning interface ready!\")\nprint(\"To start an interactive session, uncomment and run: interactive_planning_session()\")\n"
   ]
  }
 ],
 "metadata": {
  "language_info": {
   "name": "python"
  }
 },
 "nbformat": 4,
 "nbformat_minor": 2
}